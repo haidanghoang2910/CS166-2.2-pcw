{
 "cells": [
  {
   "cell_type": "code",
   "execution_count": 1,
   "metadata": {},
   "outputs": [],
   "source": [
    "import heapq\n",
    "\n",
    "class Event:\n",
    "    '''\n",
    "    Store the properties of one event in the Schedule class defined below. Each\n",
    "    event has a time at which it needs to run, a function to call when running\n",
    "    the event, along with the arguments and keyword arguments to pass to that\n",
    "    function.\n",
    "    '''\n",
    "    def __init__(self, timestamp, function, *args, **kwargs):\n",
    "        self.timestamp = timestamp\n",
    "        self.function = function\n",
    "        self.args = args\n",
    "        self.kwargs = kwargs\n",
    "\n",
    "    def __lt__(self, other):\n",
    "        '''\n",
    "        This overloads the less-than operator in Python. We need it so the\n",
    "        priority queue knows how to compare two events. We want events with\n",
    "        earlier (smaller) times to go first.\n",
    "        '''\n",
    "        return self.timestamp < other.timestamp\n",
    "\n",
    "    def run(self, schedule):\n",
    "        '''\n",
    "        Run an event by calling the function with its arguments and keyword\n",
    "        arguments. The first argument to any event function is always the\n",
    "        schedule in which events are being tracked. The schedule object can be\n",
    "        used to add new events to the priority queue.\n",
    "        '''\n",
    "        self.function(schedule, *self.args, **self.kwargs)\n",
    "\n",
    "\n",
    "class Schedule:\n",
    "    '''\n",
    "    Implement an event schedule using a priority queue. You can add events and\n",
    "    run the next event.\n",
    "    \n",
    "    The `now` attribute contains the time at which the last event was run.\n",
    "    '''\n",
    "    \n",
    "    def __init__(self):\n",
    "        self.now = 0  # Keep track of the current simulation time\n",
    "        self.priority_queue = []  # The priority queue of events to run\n",
    "    \n",
    "    def add_event_at(self, timestamp, function, *args, **kwargs):\n",
    "        # Add an event to the schedule at a particular point in time.\n",
    "        heapq.heappush(\n",
    "            self.priority_queue,\n",
    "            Event(timestamp, function, *args, **kwargs))\n",
    "    \n",
    "    def add_event_after(self, interval, function, *args, **kwargs):\n",
    "        # Add an event to the schedule after a specified time interval.\n",
    "        self.add_event_at(self.now + interval, function, *args, **kwargs)\n",
    "    \n",
    "    def next_event_time(self):\n",
    "        return self.priority_queue[0].timestamp\n",
    "\n",
    "    def run_next_event(self):\n",
    "        # Get the next event from the priority queue and run it.\n",
    "        event = heapq.heappop(self.priority_queue)\n",
    "        self.now = event.timestamp\n",
    "        event.run(self)\n",
    "        \n",
    "    def __repr__(self):\n",
    "        return (\n",
    "            f'Schedule() at time {self.now} ' +\n",
    "            f'with {len(self.priority_queue)} events in the queue')\n",
    "    \n",
    "    def print_events(self):\n",
    "        print(repr(self))\n",
    "        for event in sorted(self.priority_queue):\n",
    "            print(f'   {event.timestamp}: {event.function.__name__}')\n"
   ]
  },
  {
   "cell_type": "code",
   "execution_count": 2,
   "metadata": {},
   "outputs": [],
   "source": [
    "# M/D/1 queue\n",
    "\n",
    "import scipy.stats as sts\n",
    "\n",
    "\n",
    "class Queue:\n",
    "    def __init__(self, service_rate):\n",
    "        # Store the deterministic service time for an M/D/1 queue\n",
    "        self.service_time = 1 / service_rate\n",
    "        # We start with an empty queue and the server not busy\n",
    "        self.people_in_queue = 0\n",
    "        self.people_being_served = 0\n",
    "\n",
    "    def add_customer(self, schedule):\n",
    "        # Add the customer to the queue\n",
    "        self.people_in_queue += 1\n",
    "        if self.people_being_served < 1:\n",
    "            # This customer can be served immediately\n",
    "            schedule.add_event_after(0, self.start_serving_customer)\n",
    "            \n",
    "    def start_serving_customer(self, schedule):\n",
    "        # Move the customer from the queue to a server\n",
    "        self.people_in_queue -= 1\n",
    "        self.people_being_served += 1\n",
    "        # Schedule when the server will be done with the customer\n",
    "        schedule.add_event_after(\n",
    "            self.service_time,\n",
    "            self.finish_serving_customer)\n",
    "            \n",
    "    def finish_serving_customer(self, schedule):\n",
    "        # Remove the customer from the server\n",
    "        self.people_being_served -= 1\n",
    "        if self.people_in_queue > 0:\n",
    "            # There are more people in the queue so serve the next customer\n",
    "            schedule.add_event_after(0, self.start_serving_customer)\n",
    "\n",
    "\n",
    "class GroceryStore:\n",
    "    \n",
    "    def __init__(self, arrival_rate, service_rate):\n",
    "        self.queue = Queue(service_rate)\n",
    "        self.arrival_distribution = sts.expon(scale=1/arrival_rate)\n",
    "\n",
    "    def add_customer(self, schedule):\n",
    "        # Add this customer to the queue\n",
    "        self.queue.add_customer(schedule)\n",
    "        # Schedule when to add another customer\n",
    "        schedule.add_event_after(\n",
    "            self.arrival_distribution.rvs(),\n",
    "            self.add_customer)\n",
    "\n",
    "    def run(self, schedule):\n",
    "        # Schedule when the first customer arrives\n",
    "        schedule.add_event_after(\n",
    "            self.arrival_distribution.rvs(),\n",
    "            self.add_customer)\n",
    "        \n",
    "\n",
    "def run_simulation(arrival_rate, service_rate, run_until):\n",
    "    schedule = Schedule()\n",
    "    grocery_store = GroceryStore(arrival_rate, service_rate)\n",
    "    grocery_store.run(schedule)\n",
    "    while schedule.next_event_time() < run_until:\n",
    "        schedule.run_next_event()\n",
    "    return grocery_store"
   ]
  },
  {
   "cell_type": "code",
   "execution_count": 6,
   "metadata": {},
   "outputs": [
    {
     "name": "stdout",
     "output_type": "stream",
     "text": [
      "There are 6 people in the queue\n"
     ]
    }
   ],
   "source": [
    "# Run a short test\n",
    "grocery_store = run_simulation(arrival_rate=0.8, service_rate=1, run_until=100)\n",
    "print(f'There are {grocery_store.queue.people_in_queue} people in the queue')"
   ]
  },
  {
   "cell_type": "code",
   "execution_count": 7,
   "metadata": {},
   "outputs": [],
   "source": [
    "#run 100 times with arrival rate = 0.8, service rate = 1\n",
    "list_number_in_queue1 = []\n",
    "for i in range(100):\n",
    "    grocery_store = run_simulation(arrival_rate=0.8, service_rate=1, run_until=100)\n",
    "    list_number_in_queue1.append(grocery_store.queue.people_in_queue)"
   ]
  },
  {
   "cell_type": "code",
   "execution_count": 36,
   "metadata": {},
   "outputs": [
    {
     "data": {
      "text/plain": [
       "<function matplotlib.pyplot.show(*args, **kw)>"
      ]
     },
     "execution_count": 36,
     "metadata": {},
     "output_type": "execute_result"
    },
    {
     "data": {
      "image/png": "[encoded data removed]",
      "text/plain": [
       "<Figure size 432x288 with 1 Axes>"
      ]
     },
     "metadata": {
      "needs_background": "light"
     },
     "output_type": "display_data"
    }
   ],
   "source": [
    "#graph the histogram\n",
    "import matplotlib.pyplot as plt\n",
    "import numpy as np\n",
    "import scipy.stats as sts\n",
    "plt.hist(list_number_in_queue1)\n",
    "plt.xlabel('Average queue length')\n",
    "plt.show"
   ]
  },
  {
   "cell_type": "code",
   "execution_count": 22,
   "metadata": {},
   "outputs": [
    {
     "name": "stdout",
     "output_type": "stream",
     "text": [
      "The sample mean is 2.03\n",
      "95% confidence interval of the population mean is [1.4697413425637018, 2.590258657436298]\n"
     ]
    }
   ],
   "source": [
    "#compute mean queue length and 95% CI\n",
    "mean_queue1 = np.mean(list_number_in_queue1) \n",
    "t = sts.sem(list_number_in_queue1) #calculate standard error\n",
    "print('The sample mean is', mean_queue1)\n",
    "print('95% confidence interval of the population mean is', [mean_queue1 - 1.96*t, mean_queue1+1.96*t])"
   ]
  },
  {
   "cell_type": "code",
   "execution_count": 35,
   "metadata": {},
   "outputs": [
    {
     "name": "stdout",
     "output_type": "stream",
     "text": [
      "The sample mean is 1.529\n",
      "95% confidence interval of the population mean is [1.387033134128398, 1.670966865871602]\n"
     ]
    },
    {
     "data": {
      "image/png": "[encoded data removed]",
      "text/plain": [
       "<Figure size 432x288 with 1 Axes>"
      ]
     },
     "metadata": {
      "needs_background": "light"
     },
     "output_type": "display_data"
    }
   ],
   "source": [
    "#second experiment: 1000 trials\n",
    "list_number_in_queue2 = []\n",
    "for i in range(1000):\n",
    "    grocery_store = run_simulation(arrival_rate=0.8, service_rate=1, run_until=100)\n",
    "    list_number_in_queue2.append(grocery_store.queue.people_in_queue)\n",
    "plt.hist(list_number_in_queue2)\n",
    "plt.xlabel('Average queue length')\n",
    "mean_queue2 = np.mean(list_number_in_queue2) \n",
    "t2 = sts.sem(list_number_in_queue2) \n",
    "print('The sample mean is', mean_queue2)\n",
    "print('95% confidence interval of the population mean is', [mean_queue2 - 1.96*t2, mean_queue2+1.96*t2])"
   ]
  },
  {
   "cell_type": "markdown",
   "metadata": {},
   "source": [
    "#comments\n",
    "\n",
    "The distribution over queue length certainly changed - we see that the one with 1000 trials is a lot more concentration towards 0 (less spread out) than the one with 100 trials. This makes sense because we are having the arrival rate to be lower than the service rate, which means service is faster than arrival, so the queue length should not be long.\n",
    "\n",
    "Similarly, the average queue length estimate changed from around 2 to 1.4, a 30% decrease. This makes sense due to reasons stated above.\n",
    "\n",
    "The confidence interval also narrowed - this is intuitive, since we have more data with 1000 trials and we can be fairly more certain than the case with 100 trials, so the range of estimation is narrower."
   ]
  },
  {
   "cell_type": "code",
   "execution_count": 34,
   "metadata": {},
   "outputs": [
    {
     "name": "stdout",
     "output_type": "stream",
     "text": [
      "The sample mean is 7.28\n",
      "95% confidence interval of the population mean is [6.919352237538386, 7.640647762461614]\n"
     ]
    },
    {
     "data": {
      "image/png": "[encoded data removed]",
      "text/plain": [
       "<Figure size 432x288 with 1 Axes>"
      ]
     },
     "metadata": {
      "needs_background": "light"
     },
     "output_type": "display_data"
    }
   ],
   "source": [
    "#try with arrival rate of 1 and service rate of 1 for 1000 trials\n",
    "list_number_in_queue3 = []\n",
    "for i in range(1000):\n",
    "    grocery_store = run_simulation(arrival_rate=1, service_rate=1, run_until=100)\n",
    "    list_number_in_queue3.append(grocery_store.queue.people_in_queue)\n",
    "plt.hist(list_number_in_queue3)\n",
    "plt.xlabel('Average queue length')\n",
    "mean_queue3 = np.mean(list_number_in_queue3) \n",
    "t3 = sts.sem(list_number_in_queue3) \n",
    "print('The sample mean is', mean_queue3)\n",
    "print('95% confidence interval of the population mean is', [mean_queue3 - 1.96*t3, mean_queue3+1.96*t3])\n"
   ]
  },
  {
   "cell_type": "code",
   "execution_count": 33,
   "metadata": {},
   "outputs": [
    {
     "name": "stdout",
     "output_type": "stream",
     "text": [
      "The sample mean is 5.076\n",
      "95% confidence interval of the population mean is [4.754278270877783, 5.397721729122217]\n"
     ]
    },
    {
     "data": {
      "image/png": "[encoded data removed]",
      "text/plain": [
       "<Figure size 432x288 with 1 Axes>"
      ]
     },
     "metadata": {
      "needs_background": "light"
     },
     "output_type": "display_data"
    }
   ],
   "source": [
    "#try with arrival rate of 0.95 and service rate of 1 for 1000 trials\n",
    "list_number_in_queue4 = []\n",
    "for i in range(1000):\n",
    "    grocery_store = run_simulation(arrival_rate=0.95, service_rate=1, run_until=100)\n",
    "    list_number_in_queue4.append(grocery_store.queue.people_in_queue)\n",
    "plt.hist(list_number_in_queue4)\n",
    "plt.xlabel('Average queue length')\n",
    "mean_queue4 = np.mean(list_number_in_queue4) \n",
    "t4 = sts.sem(list_number_in_queue4) \n",
    "print('The sample mean is', mean_queue4)\n",
    "print('95% confidence interval of the population mean is', [mean_queue4 - 1.96*t4, mean_queue4+1.96*t4])"
   ]
  },
  {
   "cell_type": "code",
   "execution_count": 37,
   "metadata": {},
   "outputs": [
    {
     "data": {
      "image/png": "[encoded data removed]",
      "text/plain": [
       "<Figure size 432x288 with 1 Axes>"
      ]
     },
     "metadata": {
      "needs_background": "light"
     },
     "output_type": "display_data"
    }
   ],
   "source": [
    "#make the error plot of average queue length\n",
    "x = [0.8, 0.95, 1] #the value of arrival rate\n",
    "y = [1.5, 5, 7.3] #value of average queue length\n",
    "y_error=[0.15,0.32,0.36] #value of the error\n",
    "\n",
    "plt.figure()\n",
    "plt.errorbar(x,y,y_error, color='black', marker='o', capsize = 5, linestyle='--', linewidth=1) \n",
    "plt.xlabel('Service rate')\n",
    "plt.ylabel('Average queue length')\n",
    "plt.show()"
   ]
  },
  {
   "cell_type": "markdown",
   "metadata": {},
   "source": [
    "It seems with an arrival rate of around 0.95, the average queue length will start to exceed 5!"
   ]
  },
  {
   "cell_type": "markdown",
   "metadata": {},
   "source": [
    "#Reflection\n",
    "\n",
    "For #EmpiricalAnalysis, the simulations are done correctly with correct choice of statistics (confidence intervals, sample mean and error) proper graphs showing the results, as well as comments interpreting and explaining why the results make sense (For example, why the confidence interval narrows down when the number of trials increases). I have also run the simulation with 3 different parameters to compare and answer the prompt (queue length starts to exceed 5 when the arrival rate is greater than 0.95). An error plot is also included to compare the results of the simulation.\n",
    "\n",
    "For #professionalism, I have properly labeled the axes, chosen the best type of graph and made it as clear and simple as possible. I also produced a well-organized Python notebook and following all presentation guidelines, including detailed in-line code comments to guide readers. I also produced a well-written explanation and comment on my simulation results. Finally, the pre-class work is completed well before class and uploaded onto the right platform to present in class (github)."
   ]
  }
 ],
 "metadata": {
  "kernelspec": {
   "display_name": "Python 3",
   "language": "python",
   "name": "python3"
  },
  "language_info": {
   "codemirror_mode": {
    "name": "ipython",
    "version": 3
   },
   "file_extension": ".py",
   "mimetype": "text/x-python",
   "name": "python",
   "nbconvert_exporter": "python",
   "pygments_lexer": "ipython3",
   "version": "3.8.3"
  }
 },
 "nbformat": 4,
 "nbformat_minor": 4
}
